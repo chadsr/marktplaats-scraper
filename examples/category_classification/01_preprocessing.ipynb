{
 "cells": [
  {
   "cell_type": "code",
   "execution_count": 100,
   "metadata": {},
   "outputs": [],
   "source": [
    "from ast import literal_eval\n",
    "import pandas as pd\n",
    "import emoji\n",
    "from datasets.arrow_dataset import Dataset\n",
    "from datasets import Features, Value, ClassLabel\n",
    "from datasets.info import DatasetInfo\n",
    "\n",
    "pd.set_option(\"display.max_colwidth\", 256)"
   ]
  },
  {
   "cell_type": "code",
   "execution_count": 101,
   "metadata": {},
   "outputs": [],
   "source": [
    "MIN_TITLE_WORDS = 2\n",
    "MIN_TITLE_WORD_LENGTH = 2"
   ]
  },
  {
   "cell_type": "code",
   "execution_count": null,
   "metadata": {},
   "outputs": [],
   "source": [
    "df_listings = pd.read_csv(\n",
    "    \"../../data/listings.csv\",\n",
    "    converters={\n",
    "        \"category_verticals\": literal_eval,\n",
    "        \"types\": literal_eval,\n",
    "        \"services\": literal_eval,\n",
    "        \"image_urls\": literal_eval,\n",
    "    },\n",
    ")"
   ]
  },
  {
   "cell_type": "code",
   "execution_count": 103,
   "metadata": {},
   "outputs": [
    {
     "name": "stdout",
     "output_type": "stream",
     "text": [
      "Remaining listings: 21741\n"
     ]
    }
   ],
   "source": [
    "# Only use parent_category_id 1098 (Services and Professionals)\n",
    "\n",
    "df_listings = df_listings.loc[df_listings[\"parent_category_id\"] == 1098]\n",
    "print(f\"Remaining listings: {len(df_listings.index)}\")"
   ]
  },
  {
   "cell_type": "code",
   "execution_count": 104,
   "metadata": {},
   "outputs": [
    {
     "name": "stdout",
     "output_type": "stream",
     "text": [
      "Remaining listings: 21313\n"
     ]
    }
   ],
   "source": [
    "#  remove listings with duplicate title+description pairs\n",
    "\n",
    "df_listings = df_listings.drop_duplicates([\"title\", \"description\"], keep=\"last\")\n",
    "print(f\"Remaining listings: {len(df_listings.index)}\")"
   ]
  },
  {
   "cell_type": "code",
   "execution_count": null,
   "metadata": {},
   "outputs": [
    {
     "name": "stdout",
     "output_type": "stream",
     "text": [
      "Remaining listings: 21258\n"
     ]
    }
   ],
   "source": [
    "# Remove irelevant categories\n",
    "REMOVE_CHILD_CATEGORY_IDS: list[int] = []\n",
    "\n",
    "df_listings = df_listings[df_listings.child_category_id.isin(REMOVE_CHILD_CATEGORY_IDS) == False]\n",
    "\n",
    "print(f\"Remaining listings: {len(df_listings.index)}\")"
   ]
  },
  {
   "cell_type": "code",
   "execution_count": 106,
   "metadata": {},
   "outputs": [],
   "source": [
    "# Split category verticals\n",
    "df_listings[[\"category\", \"parent_category\"]] = pd.DataFrame(\n",
    "    df_listings[\"category_verticals\"].tolist(), index=df_listings.index\n",
    ")"
   ]
  },
  {
   "cell_type": "code",
   "execution_count": 107,
   "metadata": {},
   "outputs": [],
   "source": [
    "# Split category verticals\n",
    "df_listings[[\"category\", \"parent_category\"]] = pd.DataFrame(\n",
    "    df_listings[\"category_verticals\"].tolist(), index=df_listings.index\n",
    ")"
   ]
  },
  {
   "cell_type": "code",
   "execution_count": 108,
   "metadata": {},
   "outputs": [
    {
     "name": "stdout",
     "output_type": "stream",
     "text": [
      "Remaining listings: 21258\n"
     ]
    }
   ],
   "source": [
    "# Remove listings with no child_category value\n",
    "df_listings.dropna(subset=[\"category\"], inplace=True)\n",
    "\n",
    "print(f\"Remaining listings: {len(df_listings.index)}\")"
   ]
  },
  {
   "cell_type": "code",
   "execution_count": 109,
   "metadata": {},
   "outputs": [],
   "source": [
    "# remove punctuation\n",
    "df_listings[\"title\"] = df_listings[\"title\"].str.replace(r\"[^\\w\\s]\", \" \", regex=True)\n",
    "\n",
    "# Remove lone numbers (not part of an alphanumeric)\n",
    "df_listings[\"title\"] = df_listings[\"title\"].str.replace(r\"\\W+\\d+\\W*\", \" \", regex=True)\n",
    "\n",
    "# remove emojis\n",
    "df_listings[\"title\"] = df_listings[\"title\"].apply(lambda s: emoji.replace_emoji(s, \"\"))\n",
    "\n",
    "# Remove words with length less than MIN_TITLE_WORD_LENGTH\n",
    "df_listings[\"title\"] = df_listings[\"title\"].str.replace(\n",
    "    r\"\\b(\\w{1,\" + str(MIN_TITLE_WORD_LENGTH - 1) + r\"})\\b\", \" \", regex=True\n",
    ")\n",
    "\n",
    "# remove excess whitespace\n",
    "df_listings[\"title\"] = df_listings[\"title\"].str.replace(r\"\\s+\", \" \", regex=True)\n",
    "\n",
    "# trim whitespace\n",
    "df_listings[\"title\"] = df_listings[\"title\"].str.strip()"
   ]
  },
  {
   "cell_type": "code",
   "execution_count": null,
   "metadata": {},
   "outputs": [],
   "source": [
    "# Remove rows with a title word count less than MIN_TITLE_WORDS\n",
    "df_listings[\"title_word_count\"] = df_listings[\"title\"].str.split().str.len()\n",
    "df_listings = df_listings[df_listings[\"title_word_count\"] >= MIN_TITLE_WORDS]\n",
    "\n",
    "\n",
    "print(f\"Remaining listings: {len(df_listings.index)}\")\n",
    "df_listings.sample(5)"
   ]
  },
  {
   "cell_type": "code",
   "execution_count": null,
   "metadata": {},
   "outputs": [
    {
     "data": {
      "text/html": [
       "<div>\n",
       "<style scoped>\n",
       "    .dataframe tbody tr th:only-of-type {\n",
       "        vertical-align: middle;\n",
       "    }\n",
       "\n",
       "    .dataframe tbody tr th {\n",
       "        vertical-align: top;\n",
       "    }\n",
       "\n",
       "    .dataframe thead th {\n",
       "        text-align: right;\n",
       "    }\n",
       "</style>\n",
       "<table border=\"1\" class=\"dataframe\">\n",
       "  <thead>\n",
       "    <tr style=\"text-align: right;\">\n",
       "      <th></th>\n",
       "      <th>label</th>\n",
       "      <th>name</th>\n",
       "    </tr>\n",
       "  </thead>\n",
       "  <tbody>\n",
       "    <tr>\n",
       "      <th>71</th>\n",
       "      <td>71</td>\n",
       "      <td>repair_and_maintenance_equipment</td>\n",
       "    </tr>\n",
       "    <tr>\n",
       "      <th>40</th>\n",
       "      <td>40</td>\n",
       "      <td>group_outings_staff_parties</td>\n",
       "    </tr>\n",
       "    <tr>\n",
       "      <th>65</th>\n",
       "      <td>65</td>\n",
       "      <td>rentals_boats</td>\n",
       "    </tr>\n",
       "    <tr>\n",
       "      <th>18</th>\n",
       "      <td>18</td>\n",
       "      <td>brokers_and_appraisers</td>\n",
       "    </tr>\n",
       "    <tr>\n",
       "      <th>75</th>\n",
       "      <td>75</td>\n",
       "      <td>repair_and_maintenance_trailers_and_campers</td>\n",
       "    </tr>\n",
       "  </tbody>\n",
       "</table>\n",
       "</div>"
      ],
      "text/plain": [
       "    label                                         name\n",
       "71     71             repair_and_maintenance_equipment\n",
       "40     40                  group_outings_staff_parties\n",
       "65     65                                rentals_boats\n",
       "18     18                       brokers_and_appraisers\n",
       "75     75  repair_and_maintenance_trailers_and_campers"
      ]
     },
     "execution_count": 111,
     "metadata": {},
     "output_type": "execute_result"
    }
   ],
   "source": [
    "df_categories = pd.read_csv(\"../../data/categories.csv\", converters={\"label\": literal_eval})\n",
    "\n",
    "if df_categories.empty:\n",
    "    # construct categories dataset with numeric labels\n",
    "    df_categories = df_listings[\"category\"].to_frame(name=\"name\")\n",
    "    df_categories.drop_duplicates(subset=[\"name\"], inplace=True)\n",
    "    df_categories.sort_values(\"name\", ascending=True, inplace=True)\n",
    "    df_categories.reset_index(inplace=True, drop=True)\n",
    "\n",
    "    df_categories[\"label\"] = df_categories.index\n",
    "    df_categories.sort_values(\"label\", ascending=True, inplace=True)\n",
    "    df_categories = df_categories[[\"label\", \"name\"]]\n",
    "    df_categories.to_csv(\"../../data/categories.csv\", index=False)\n",
    "\n",
    "exp_num_categories = df_categories[\"name\"].nunique()\n",
    "num_categories = df_listings[\"category\"].nunique()\n",
    "if exp_num_categories < num_categories:\n",
    "    exp_categories: set[str] = set(df_categories[\"name\"].to_list())\n",
    "    categories: set[str] = set(df_listings[\"category\"].to_list())\n",
    "    category_diff = categories.difference(exp_categories)\n",
    "    raise Exception(\n",
    "        f\"Got difference in categories. Resolve manually in categories.csv: {category_diff}\"\n",
    "    )\n",
    "\n",
    "categories_dict: dict[str, int] = pd.Series(\n",
    "    df_categories[\"label\"].values, index=df_categories[\"name\"]\n",
    ").to_dict()\n",
    "df_categories.sample(5)"
   ]
  },
  {
   "cell_type": "code",
   "execution_count": null,
   "metadata": {},
   "outputs": [],
   "source": [
    "df_categories_dataset = df_listings[[\"title\", \"category\"]]\n",
    "df_categories_dataset[\"label\"] = df_categories_dataset[\"category\"].map(categories_dict)\n",
    "df_categories_dataset = df_categories_dataset[[\"title\", \"label\"]]\n",
    "df_categories_dataset.sample(5)"
   ]
  },
  {
   "cell_type": "code",
   "execution_count": null,
   "metadata": {},
   "outputs": [],
   "source": [
    "# Save the category classification dataset to a file\n",
    "\n",
    "categories_features = Features(\n",
    "    {\"title\": Value(dtype=\"string\"), \"label\": ClassLabel(names=list(categories_dict.keys()))}\n",
    ")\n",
    "categories_info = DatasetInfo(\n",
    "    description=\"Marktplaats Listing Titles/Categories\", features=categories_features\n",
    ")\n",
    "categories_dataset = Dataset.from_pandas(\n",
    "    df=df_categories_dataset,\n",
    "    info=categories_info,\n",
    "    features=categories_features,\n",
    "    preserve_index=False,\n",
    ")\n",
    "categories_dataset.save_to_disk(\"../../data/category_classification\")"
   ]
  }
 ],
 "metadata": {
  "kernelspec": {
   "display_name": ".venv",
   "language": "python",
   "name": "python3"
  },
  "language_info": {
   "codemirror_mode": {
    "name": "ipython",
    "version": 3
   },
   "file_extension": ".py",
   "mimetype": "text/x-python",
   "name": "python",
   "nbconvert_exporter": "python",
   "pygments_lexer": "ipython3",
   "version": "3.11.3"
  },
  "orig_nbformat": 4
 },
 "nbformat": 4,
 "nbformat_minor": 2
}
